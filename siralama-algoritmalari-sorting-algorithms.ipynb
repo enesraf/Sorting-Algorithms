{
 "cells": [
  {
   "cell_type": "markdown",
   "metadata": {},
   "source": [
    "#     Veri Yapıları Sıralama Algoritmaları     #"
   ]
  },
  {
   "cell_type": "markdown",
   "metadata": {},
   "source": [
    "### Random Sayı Dizisi Oluşturuluyor.. ###\n",
    "\n",
    "Here I sorted the mixed data that exists with the Python Language codes. This sorting algorithm, I was able to reduce the processing load of the computer to a very short time. To this, access to data has become simpler."
   ]
  },
  {
   "cell_type": "code",
   "execution_count": 1,
   "metadata": {
    "_cell_guid": "b1076dfc-b9ad-4769-8c92-a6c4dae69d19",
    "_uuid": "8f2839f25d086af736a60e9eeb907d3b93b6e0e5"
   },
   "outputs": [
    {
     "name": "stdout",
     "output_type": "stream",
     "text": [
      "\t\t\t ELEMANLARI RASTGELE \n",
      "\n",
      "[75, 40, 100, 91, 86, 16, 61, 1, 9, 10, 93, 49, 42, 84, 53, 20, 25, 42, 3, 50, 26, 92, 21, 2, 42, 73, 65, 85, 12, 30, 74, 22, 21, 4, 87, 9, 74, 47, 71, 19, 48, 29, 78, 82, 48, 13, 2, 52, 31, 20, 46, 73, 11, 90, 52, 10, 71, 20, 85, 1, 64, 99, 10, 14, 2, 44, 83, 76, 2, 62, 34, 98, 78, 94, 8, 27, 44, 97, 5, 20, 68, 15, 98, 76, 38, 31, 13, 72, 98, 26, 68, 79, 90, 8, 50, 98, 47, 94, 2, 78] \n",
      "\n",
      "Work Time:  0.0006644725799560547 \n",
      "\n",
      "\t\t\t ELEMANLARI SIRALI \n",
      "\n",
      "[4, 5, 5, 5, 5, 7, 7, 11, 11, 11, 12, 13, 13, 14, 14, 15, 16, 16, 17, 17, 18, 18, 19, 19, 21, 21, 22, 24, 25, 25, 26, 27, 27, 27, 27, 29, 30, 30, 31, 32, 32, 32, 36, 36, 38, 41, 43, 45, 46, 49, 49, 51, 52, 52, 54, 56, 56, 56, 57, 57, 59, 59, 61, 62, 63, 63, 65, 66, 66, 66, 67, 67, 69, 70, 70, 70, 71, 72, 73, 74, 74, 74, 76, 76, 77, 79, 80, 83, 85, 89, 91, 93, 94, 95, 97, 97, 98, 98, 99, 99] \n",
      "\n",
      "Work Time:  0.0005767345428466797 \n",
      "\n",
      "\t\t\t ELEMANLARI TERS SIRALI \n",
      "\n",
      "[100, 100, 100, 99, 99, 98, 97, 97, 94, 92, 91, 89, 89, 87, 85, 84, 84, 83, 82, 81, 81, 77, 77, 76, 76, 74, 74, 72, 72, 72, 71, 71, 71, 69, 67, 65, 65, 64, 64, 63, 62, 62, 61, 57, 56, 54, 54, 54, 53, 53, 50, 49, 48, 48, 48, 48, 48, 47, 45, 42, 39, 37, 35, 34, 34, 34, 34, 34, 33, 26, 26, 26, 26, 24, 24, 24, 24, 24, 23, 23, 23, 22, 22, 20, 20, 19, 18, 16, 15, 14, 14, 14, 14, 12, 11, 7, 6, 4, 4, 1] \n",
      "\n",
      "Work Time:  0.0005741119384765625 \n",
      "\n"
     ]
    }
   ],
   "source": [
    "import random\n",
    "import timeit\n",
    "import time\n",
    "\n",
    "#**************************************************#\n",
    "            ## ~ELEMANLARI RASTGELE~ ##\n",
    "    \n",
    "start=time.time()\n",
    "\n",
    "list1=[]\n",
    "for r1 in range(100):\n",
    "\n",
    "    r1=random.randint(1,100)\n",
    "    list1.append(r1)\n",
    "\n",
    "print(\"\\t\\t\\t ELEMANLARI RASTGELE \\n\")\n",
    "print(list1,\"\\n\")\n",
    "\n",
    "stop=time.time()\n",
    "print(\"Work Time: \",stop-start,\"\\n\")\n",
    "\n",
    "#**************************************************#\n",
    "            ## ~ELEMANLARI SIRALI~ ##\n",
    "\n",
    "start=time.time()\n",
    "\n",
    "list2=[]\n",
    "for r2 in range(100):\n",
    "\n",
    "    r2=random.randint(1,100)\n",
    "    list2.append(r2)\n",
    "    \n",
    "list2.sort()\n",
    "print(\"\\t\\t\\t ELEMANLARI SIRALI \\n\")\n",
    "print(list2,\"\\n\")\n",
    "\n",
    "stop=time.time()\n",
    "print(\"Work Time: \",stop-start,\"\\n\")\n",
    "\n",
    "#**************************************************#\n",
    "            ## ~ELEMANLARI TERS SIRALI~ ##\n",
    "\n",
    "start=time.time()\n",
    "\n",
    "list3=[]\n",
    "for r3 in range(100):\n",
    "    \n",
    "    r3=random.randint(1,100)\n",
    "    list3.append(r3)\n",
    "\n",
    "list3.sort(reverse=True)\n",
    "print(\"\\t\\t\\t ELEMANLARI TERS SIRALI \\n\")\n",
    "print(list3,\"\\n\")\n",
    "\n",
    "stop=time.time()\n",
    "print(\"Work Time: \",stop-start,\"\\n\")\n",
    "\n",
    "\n",
    "\n",
    "keep1=list1\n",
    "keep2=list2\n",
    "keep3=list3\n"
   ]
  },
  {
   "cell_type": "markdown",
   "metadata": {},
   "source": [
    "### Sıralama Algoritmaları Oluşturuluyor.. ###"
   ]
  },
  {
   "cell_type": "code",
   "execution_count": 2,
   "metadata": {
    "_cell_guid": "79c7e3d0-c299-4dcb-8224-4455121ee9b0",
    "_uuid": "d629ff2d2480ee46fbb7e2d37f6b5fab8052498a"
   },
   "outputs": [
    {
     "name": "stdout",
     "output_type": "stream",
     "text": [
      "Creation Time:  0.0001316070556640625 \t İnsertion Sort \n",
      "\n",
      "Creation Time:  0.0001246929168701172 \t Selection Sort \n",
      "\n",
      "Creation Time:  0.00012040138244628906 \t Bubble Sort \n",
      "\n",
      "Creation Time:  0.0002579689025878906 \t Heap Sort \n",
      "\n"
     ]
    }
   ],
   "source": [
    "long=100;\n",
    "#**************************************************#\n",
    "            ## ~İNSERTİON SORT~ ##\n",
    "start=time.time()\n",
    "\n",
    "def insertion_sort(List):\n",
    "    for i in range(1,long):\n",
    "        key=List[i]\n",
    "        j=i-1\n",
    "        while j >=0 and key < List[j]:\n",
    "            List[j+1] = List[j]\n",
    "            j-=1\n",
    "        List[j+1] = key\n",
    "        \n",
    "stop=time.time()\n",
    "print(\"Creation Time: \",stop-start,\"\\t İnsertion Sort\",\"\\n\")        \n",
    "#**************************************************#\n",
    "            ## ~SELECTİON SORT~ ##\n",
    "start=time.time()\n",
    "\n",
    "def selection_sort(List):\n",
    "    for i in range(long): \n",
    "        min_index = i \n",
    "        for j in range(i+1,long): \n",
    "            if List[min_index] > List[j]: \n",
    "                min_index = j \n",
    "              \n",
    "    # Swap the found minimum element with  \n",
    "    # the first element         \n",
    "        List[i], List[min_index] = List[min_index], List[i]\n",
    "        \n",
    "stop=time.time()\n",
    "print(\"Creation Time: \",stop-start,\"\\t Selection Sort\",\"\\n\")        \n",
    "#**************************************************#\n",
    "            ## ~BUBBLE SORT~ ##\n",
    "start=time.time()\n",
    "\n",
    "def bubble_Sort(List):\n",
    "    for i in range(long):\n",
    "        for j in range(0, long-i-1):\n",
    "            if List[j] > List[j+1] :\n",
    "                List[j], List[j+1] = List[j+1], List[j]\n",
    "                \n",
    "stop=time.time()\n",
    "print(\"Creation Time: \",stop-start,\"\\t Bubble Sort\",\"\\n\")        \n",
    "#**************************************************#\n",
    "            ## ~HEAP SORT~ ##\n",
    "start=time.time()\n",
    "\n",
    "def heapify(List,long, i): \n",
    "    largest = i  # Initialize largest as root \n",
    "    l = 2 * i + 1     # left = 2*i + 1 \n",
    "    r = 2 * i + 2     # right = 2*i + 2 \n",
    "  \n",
    "    # See if left child of root exists and is \n",
    "    # greater than root \n",
    "    if l < long and List[i] < List[l]: \n",
    "        largest = l \n",
    "  \n",
    "    # See if right child of root exists and is \n",
    "    # greater than root \n",
    "    if r < long and List[largest] < List[r]: \n",
    "        largest = r \n",
    "  \n",
    "    # Change root, if needed \n",
    "    if largest != i: \n",
    "        List[i],List[largest] = List[largest],List[i]  # swap \n",
    "  \n",
    "        # Heapify the root. \n",
    "        heapify(List, long, largest) \n",
    "\n",
    "def heap_Sort(List): \n",
    "    for i in range(long, -1, -1): \n",
    "        heapify(List, long, i) \n",
    "    for i in range(long-1, 0, -1): \n",
    "        List[i], List[0] = List[0], List[i]   \n",
    "        heapify(List, i, 0)\n",
    "        \n",
    "stop=time.time()\n",
    "print(\"Creation Time: \",stop-start,\"\\t Heap Sort\",\"\\n\")        \n"
   ]
  },
  {
   "cell_type": "markdown",
   "metadata": {},
   "source": [
    "## ~ İnsertion Sort ~ ##"
   ]
  },
  {
   "cell_type": "code",
   "execution_count": 3,
   "metadata": {},
   "outputs": [
    {
     "name": "stdout",
     "output_type": "stream",
     "text": [
      "\t\t  İnsertion Sort\n",
      "List 1\n",
      "   Sort Time:  0.0010051727294921875 \n",
      "\n",
      "List 2\n",
      "   Sort Time:  0.00011086463928222656 \n",
      "\n",
      "List 3\n",
      "   Sort Time:  0.0020296573638916016 \n",
      "\n"
     ]
    }
   ],
   "source": [
    "print(\"\\t\\t  İnsertion Sort\")\n",
    "start=time.time()\n",
    "insertion_sort(list1)\n",
    "stop=time.time()\n",
    "print(\"List 1\\n   Sort Time: \",stop-start,\"\\n\")\n",
    "\n",
    "start=time.time()\n",
    "insertion_sort(list2)\n",
    "stop=time.time()\n",
    "print(\"List 2\\n   Sort Time: \",stop-start,\"\\n\")\n",
    "\n",
    "start=time.time()\n",
    "insertion_sort(list3)\n",
    "stop=time.time()\n",
    "print(\"List 3\\n   Sort Time: \",stop-start,\"\\n\")"
   ]
  },
  {
   "cell_type": "markdown",
   "metadata": {},
   "source": [
    "## ~ Selection Sort ~ ##\n"
   ]
  },
  {
   "cell_type": "code",
   "execution_count": 4,
   "metadata": {},
   "outputs": [
    {
     "name": "stdout",
     "output_type": "stream",
     "text": [
      "\t\t  Selection Sort\n",
      "List 1\n",
      "   Sort Time:  0.001058340072631836 \n",
      "\n",
      "List 2\n",
      "   Sort Time:  0.001073598861694336 \n",
      "\n",
      "List 3\n",
      "   Sort Time:  0.0010483264923095703 \n",
      "\n"
     ]
    }
   ],
   "source": [
    "print(\"\\t\\t  Selection Sort\")\n",
    "start=time.time()\n",
    "selection_sort(list1)\n",
    "stop=time.time()\n",
    "print(\"List 1\\n   Sort Time: \",stop-start,\"\\n\")\n",
    "\n",
    "start=time.time()\n",
    "selection_sort(list2)\n",
    "stop=time.time()\n",
    "print(\"List 2\\n   Sort Time: \",stop-start,\"\\n\")\n",
    "\n",
    "start=time.time()\n",
    "selection_sort(list3)\n",
    "stop=time.time()\n",
    "print(\"List 3\\n   Sort Time: \",stop-start,\"\\n\")"
   ]
  },
  {
   "cell_type": "markdown",
   "metadata": {},
   "source": [
    "## ~ Bubble Sort ~ ##"
   ]
  },
  {
   "cell_type": "code",
   "execution_count": 5,
   "metadata": {},
   "outputs": [
    {
     "name": "stdout",
     "output_type": "stream",
     "text": [
      "\t\t  Bubble Sort\n",
      "List 1\n",
      "   Sort Time:  0.0012323856353759766 \n",
      "\n",
      "List 2\n",
      "   Sort Time:  0.0012350082397460938 \n",
      "\n",
      "List 3\n",
      "   Sort Time:  0.0012271404266357422 \n",
      "\n"
     ]
    }
   ],
   "source": [
    "print(\"\\t\\t  Bubble Sort\")\n",
    "start=time.time()\n",
    "bubble_Sort(list1)\n",
    "stop=time.time()\n",
    "print(\"List 1\\n   Sort Time: \",stop-start,\"\\n\")\n",
    "\n",
    "start=time.time()\n",
    "bubble_Sort(list2)\n",
    "stop=time.time()\n",
    "print(\"List 2\\n   Sort Time: \",stop-start,\"\\n\")\n",
    "\n",
    "start=time.time()\n",
    "bubble_Sort(list3)\n",
    "stop=time.time()\n",
    "print(\"List 3\\n   Sort Time: \",stop-start,\"\\n\")"
   ]
  },
  {
   "cell_type": "markdown",
   "metadata": {},
   "source": [
    "## ~ Heap Sort ~ ##"
   ]
  },
  {
   "cell_type": "code",
   "execution_count": 6,
   "metadata": {},
   "outputs": [
    {
     "name": "stdout",
     "output_type": "stream",
     "text": [
      "\t\t  Heap Sort\n",
      "List 1\n",
      "   Sort Time:  0.0008933544158935547 \n",
      "\n",
      "List 2\n",
      "   Sort Time:  0.0009059906005859375 \n",
      "\n",
      "List 3\n",
      "   Sort Time:  0.0008995532989501953 \n",
      "\n"
     ]
    }
   ],
   "source": [
    "print(\"\\t\\t  Heap Sort\")\n",
    "start=time.time()\n",
    "heap_Sort(list1)\n",
    "stop=time.time()\n",
    "print(\"List 1\\n   Sort Time: \",stop-start,\"\\n\")\n",
    "\n",
    "start=time.time()\n",
    "heap_Sort(list2)\n",
    "stop=time.time()\n",
    "print(\"List 2\\n   Sort Time: \",stop-start,\"\\n\")\n",
    "\n",
    "start=time.time()\n",
    "heap_Sort(list3)\n",
    "stop=time.time()\n",
    "print(\"List 3\\n   Sort Time: \",stop-start,\"\\n\")"
   ]
  }
 ],
 "metadata": {
  "kernelspec": {
   "display_name": "Python 3",
   "language": "python",
   "name": "python3"
  },
  "language_info": {
   "codemirror_mode": {
    "name": "ipython",
    "version": 3
   },
   "file_extension": ".py",
   "mimetype": "text/x-python",
   "name": "python",
   "nbconvert_exporter": "python",
   "pygments_lexer": "ipython3",
   "version": "3.6.6"
  }
 },
 "nbformat": 4,
 "nbformat_minor": 4
}
